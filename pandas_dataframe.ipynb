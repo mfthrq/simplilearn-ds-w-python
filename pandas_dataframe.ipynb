{
 "cells": [
  {
   "cell_type": "code",
   "execution_count": 12,
   "metadata": {},
   "outputs": [],
   "source": [
    "import pandas as pd\n",
    "import numpy as np"
   ]
  },
  {
   "cell_type": "code",
   "execution_count": 8,
   "metadata": {},
   "outputs": [
    {
     "data": {
      "text/html": [
       "<div>\n",
       "<style scoped>\n",
       "    .dataframe tbody tr th:only-of-type {\n",
       "        vertical-align: middle;\n",
       "    }\n",
       "\n",
       "    .dataframe tbody tr th {\n",
       "        vertical-align: top;\n",
       "    }\n",
       "\n",
       "    .dataframe thead th {\n",
       "        text-align: right;\n",
       "    }\n",
       "</style>\n",
       "<table border=\"1\" class=\"dataframe\">\n",
       "  <thead>\n",
       "    <tr style=\"text-align: right;\">\n",
       "      <th></th>\n",
       "      <th>Gorengan</th>\n",
       "      <th>Harga (Rp)</th>\n",
       "      <th>Penjual</th>\n",
       "    </tr>\n",
       "  </thead>\n",
       "  <tbody>\n",
       "    <tr>\n",
       "      <th>0</th>\n",
       "      <td>Bakwan</td>\n",
       "      <td>2000</td>\n",
       "      <td>Asep</td>\n",
       "    </tr>\n",
       "    <tr>\n",
       "      <th>1</th>\n",
       "      <td>Tahu</td>\n",
       "      <td>3000</td>\n",
       "      <td>Wawan</td>\n",
       "    </tr>\n",
       "    <tr>\n",
       "      <th>2</th>\n",
       "      <td>Cireng</td>\n",
       "      <td>2500</td>\n",
       "      <td>Ucup</td>\n",
       "    </tr>\n",
       "    <tr>\n",
       "      <th>3</th>\n",
       "      <td>Molen</td>\n",
       "      <td>1500</td>\n",
       "      <td>Rojak</td>\n",
       "    </tr>\n",
       "    <tr>\n",
       "      <th>4</th>\n",
       "      <td>Risol</td>\n",
       "      <td>1000</td>\n",
       "      <td>Udin</td>\n",
       "    </tr>\n",
       "  </tbody>\n",
       "</table>\n",
       "</div>"
      ],
      "text/plain": [
       "  Gorengan  Harga (Rp) Penjual\n",
       "0   Bakwan        2000    Asep\n",
       "1     Tahu        3000   Wawan\n",
       "2   Cireng        2500    Ucup\n",
       "3    Molen        1500   Rojak\n",
       "4    Risol        1000    Udin"
      ]
     },
     "execution_count": 8,
     "metadata": {},
     "output_type": "execute_result"
    }
   ],
   "source": [
    "gorengan_list = {\n",
    "    'Gorengan' : ['Bakwan', 'Tahu', 'Cireng', 'Molen', 'Risol'],\n",
    "    'Harga (Rp)' : [2000,3000,2500,1500,1000],\n",
    "    'Penjual' : ['Asep', 'Wawan', 'Ucup', 'Rojak', 'Udin']\n",
    "}\n",
    "\n",
    "data_gorengan = pd.DataFrame(gorengan_list)\n",
    "data_gorengan"
   ]
  },
  {
   "cell_type": "code",
   "execution_count": 9,
   "metadata": {},
   "outputs": [
    {
     "data": {
      "text/plain": [
       "0    Bakwan\n",
       "1      Tahu\n",
       "2    Cireng\n",
       "3     Molen\n",
       "4     Risol\n",
       "Name: Gorengan, dtype: object"
      ]
     },
     "execution_count": 9,
     "metadata": {},
     "output_type": "execute_result"
    }
   ],
   "source": [
    "data_gorengan.Gorengan"
   ]
  },
  {
   "cell_type": "code",
   "execution_count": 10,
   "metadata": {},
   "outputs": [
    {
     "data": {
      "text/plain": [
       "<bound method NDFrame.describe of   Gorengan  Harga (Rp) Penjual\n",
       "0   Bakwan        2000    Asep\n",
       "1     Tahu        3000   Wawan\n",
       "2   Cireng        2500    Ucup\n",
       "3    Molen        1500   Rojak\n",
       "4    Risol        1000    Udin>"
      ]
     },
     "execution_count": 10,
     "metadata": {},
     "output_type": "execute_result"
    }
   ],
   "source": [
    "data_gorengan.describe"
   ]
  },
  {
   "cell_type": "code",
   "execution_count": 11,
   "metadata": {},
   "outputs": [
    {
     "data": {
      "text/html": [
       "<div>\n",
       "<style scoped>\n",
       "    .dataframe tbody tr th:only-of-type {\n",
       "        vertical-align: middle;\n",
       "    }\n",
       "\n",
       "    .dataframe tbody tr th {\n",
       "        vertical-align: top;\n",
       "    }\n",
       "\n",
       "    .dataframe thead th {\n",
       "        text-align: right;\n",
       "    }\n",
       "</style>\n",
       "<table border=\"1\" class=\"dataframe\">\n",
       "  <thead>\n",
       "    <tr style=\"text-align: right;\">\n",
       "      <th></th>\n",
       "      <th>Harga</th>\n",
       "      <th>Gorengan</th>\n",
       "    </tr>\n",
       "  </thead>\n",
       "  <tbody>\n",
       "    <tr>\n",
       "      <th>Asep</th>\n",
       "      <td>2000</td>\n",
       "      <td>Bakwan</td>\n",
       "    </tr>\n",
       "    <tr>\n",
       "      <th>Wawan</th>\n",
       "      <td>3000</td>\n",
       "      <td>Tahu</td>\n",
       "    </tr>\n",
       "    <tr>\n",
       "      <th>Ucup</th>\n",
       "      <td>2500</td>\n",
       "      <td>Cireng</td>\n",
       "    </tr>\n",
       "    <tr>\n",
       "      <th>Rojak</th>\n",
       "      <td>1500</td>\n",
       "      <td>Molen</td>\n",
       "    </tr>\n",
       "    <tr>\n",
       "      <th>Udin</th>\n",
       "      <td>1000</td>\n",
       "      <td>Risol</td>\n",
       "    </tr>\n",
       "  </tbody>\n",
       "</table>\n",
       "</div>"
      ],
      "text/plain": [
       "       Harga Gorengan\n",
       "Asep    2000   Bakwan\n",
       "Wawan   3000     Tahu\n",
       "Ucup    2500   Cireng\n",
       "Rojak   1500    Molen\n",
       "Udin    1000    Risol"
      ]
     },
     "execution_count": 11,
     "metadata": {},
     "output_type": "execute_result"
    }
   ],
   "source": [
    "# Create dataframe with dict of series\n",
    "\n",
    "harga_gorengan_2 = pd.Series([2000,3000,2500,1500,1000], index=['Asep', 'Wawan', 'Ucup', 'Rojak', 'Udin'])\n",
    "gorengan_2 = pd.Series(\n",
    "    ['Bakwan', 'Tahu', 'Cireng', 'Molen', 'Risol'], \n",
    "    index=['Asep', 'Wawan', 'Ucup', 'Rojak', 'Udin']\n",
    ")\n",
    "\n",
    "df_gorengan = pd.DataFrame({\n",
    "    'Harga' : harga_gorengan_2,\n",
    "    'Gorengan' : gorengan_2\n",
    "})\n",
    "\n",
    "df_gorengan"
   ]
  },
  {
   "cell_type": "code",
   "execution_count": 13,
   "metadata": {},
   "outputs": [
    {
     "data": {
      "text/html": [
       "<div>\n",
       "<style scoped>\n",
       "    .dataframe tbody tr th:only-of-type {\n",
       "        vertical-align: middle;\n",
       "    }\n",
       "\n",
       "    .dataframe tbody tr th {\n",
       "        vertical-align: top;\n",
       "    }\n",
       "\n",
       "    .dataframe thead th {\n",
       "        text-align: right;\n",
       "    }\n",
       "</style>\n",
       "<table border=\"1\" class=\"dataframe\">\n",
       "  <thead>\n",
       "    <tr style=\"text-align: right;\">\n",
       "      <th></th>\n",
       "      <th>year</th>\n",
       "    </tr>\n",
       "  </thead>\n",
       "  <tbody>\n",
       "    <tr>\n",
       "      <th>0</th>\n",
       "      <td>2003</td>\n",
       "    </tr>\n",
       "    <tr>\n",
       "      <th>1</th>\n",
       "      <td>2013</td>\n",
       "    </tr>\n",
       "    <tr>\n",
       "      <th>2</th>\n",
       "      <td>2015</td>\n",
       "    </tr>\n",
       "    <tr>\n",
       "      <th>3</th>\n",
       "      <td>2020</td>\n",
       "    </tr>\n",
       "    <tr>\n",
       "      <th>4</th>\n",
       "      <td>2022</td>\n",
       "    </tr>\n",
       "  </tbody>\n",
       "</table>\n",
       "</div>"
      ],
      "text/plain": [
       "   year\n",
       "0  2003\n",
       "1  2013\n",
       "2  2015\n",
       "3  2020\n",
       "4  2022"
      ]
     },
     "execution_count": 13,
     "metadata": {},
     "output_type": "execute_result"
    }
   ],
   "source": [
    "# Create dataframe from dict of ndarray\n",
    "\n",
    "np_array = np.array([2003,2013,2015,2020,2022])\n",
    "dict_ndarray = {'year':np_array}\n",
    "df_ndarray = pd.DataFrame(dict_ndarray)\n",
    "df_ndarray"
   ]
  },
  {
   "cell_type": "code",
   "execution_count": null,
   "metadata": {},
   "outputs": [],
   "source": []
  }
 ],
 "metadata": {
  "kernelspec": {
   "display_name": "Python 3.8.5 ('base')",
   "language": "python",
   "name": "python3"
  },
  "language_info": {
   "codemirror_mode": {
    "name": "ipython",
    "version": 3
   },
   "file_extension": ".py",
   "mimetype": "text/x-python",
   "name": "python",
   "nbconvert_exporter": "python",
   "pygments_lexer": "ipython3",
   "version": "3.8.5"
  },
  "orig_nbformat": 4,
  "vscode": {
   "interpreter": {
    "hash": "c28da407b5413b3940d87ecdae5ea8ce0c2929d84f560e9f5daaaa2573d53e68"
   }
  }
 },
 "nbformat": 4,
 "nbformat_minor": 2
}
